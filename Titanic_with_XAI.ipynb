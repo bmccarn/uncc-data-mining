{
  "cells": [
    {
      "cell_type": "markdown",
      "metadata": {
        "id": "GsDeIyIkgdZY"
      },
      "source": [
        "# Titanic Data Mining Lesson: Evaluating a Random Forest Model\n",
        "\n",
        "In this lesson, you will evaluate the performance of a Random Forest classifier on the Titanic dataset. The goal is to understand key evaluation metrics: **confusion matrix**, **accuracy**, **precision**, **recall**, **F1 score**, and **AUC**."
      ]
    },
    {
      "cell_type": "markdown",
      "metadata": {
        "id": "cZ4z09ORgdZb"
      },
      "source": [
        "## Step 1: Import Libraries"
      ]
    },
    {
      "cell_type": "code",
      "execution_count": 33,
      "metadata": {
        "id": "SHPxi3zegdZb"
      },
      "outputs": [],
      "source": [
        "import pandas as pd\n",
        "import seaborn as sns\n",
        "import matplotlib.pyplot as plt\n",
        "from sklearn.model_selection import train_test_split\n",
        "from sklearn.ensemble import RandomForestClassifier\n",
        "from sklearn.metrics import confusion_matrix, classification_report, roc_auc_score, roc_curve"
      ]
    },
    {
      "cell_type": "markdown",
      "metadata": {
        "id": "Sb5tOcOigdZc"
      },
      "source": [
        "## Step 2: Load and Prepare Titanic Data"
      ]
    },
    {
      "cell_type": "code",
      "execution_count": 34,
      "metadata": {
        "id": "JIfRqSe1gdZc"
      },
      "outputs": [],
      "source": [
        "# Load Titanic dataset\n",
        "df = sns.load_dataset(\"titanic\").dropna(subset=['age', 'embarked', 'sex'])\n",
        "\n",
        "# Encode categorical variables\n",
        "df['sex'] = df['sex'].map({'male': 0, 'female': 1})\n",
        "df['embarked'] = df['embarked'].map({'S': 0, 'C': 1, 'Q': 2})\n",
        "\n",
        "# Features and target\n",
        "X = df[['pclass', 'age', 'sex', 'fare', 'embarked']]\n",
        "y = df['survived']"
      ]
    },
    {
      "cell_type": "markdown",
      "metadata": {
        "id": "4OmjnnMYgdZc"
      },
      "source": [
        "## Step 3: Split the Data and Train the Model"
      ]
    },
    {
      "cell_type": "code",
      "execution_count": 35,
      "metadata": {
        "id": "WnkYv7zdgdZd"
      },
      "outputs": [],
      "source": [
        "X_train, X_test, y_train, y_test = train_test_split(X, y, test_size=0.2, random_state=44)\n",
        "rf = RandomForestClassifier(random_state=42)\n",
        "rf.fit(X_train, y_train)\n",
        "y_pred = rf.predict(X_test)\n",
        "y_probs = rf.predict_proba(X_test)[:, 1]"
      ]
    },
    {
      "cell_type": "markdown",
      "metadata": {
        "id": "JkrLa1MigdZd"
      },
      "source": [
        "## Step 4: Evaluate the Model\n",
        "\n",
        "We will now look at several evaluation metrics and interpret them.\n",
        "<p>Precision: Of all of the passengers we said would survive (or not), how many actually did?</p>\n",
        "<p>Recall: Of all passengers who actually survived, how many did we correctly predict?</p>\n",
        "<p>F1 Score: F1 Score tells you how well your model balances catching survivors (Recall) with not falsely assuming people survived (Precision).</p>\n",
        "<p>Example:<br>\n",
        "Imagine you're trying to predict who survived the Titanic:<br>\n",
        "\n",
        "Precision = 0.8 → Of all people predicted to survive, 80% actually did.<br>\n",
        "\n",
        "Recall = 0.6 → Of all people who actually survived, you found 60%.<br>\n",
        "Accuracy: How often the model is right overall.<br></p>\n"
      ]
    },
    {
      "cell_type": "code",
      "execution_count": 36,
      "metadata": {
        "colab": {
          "base_uri": "https://localhost:8080/"
        },
        "id": "7sfP3By7gdZd",
        "outputId": "a22df0f5-250c-42b6-bdc6-3d3777b14a5f"
      },
      "outputs": [
        {
          "name": "stdout",
          "output_type": "stream",
          "text": [
            "Confusion Matrix:\n",
            "               Predicted\n",
            "              0        1\n",
            "Actual 0   77       10      \n",
            "Actual 1   21       35      \n",
            "\n",
            "Classification Report:\n",
            "               precision    recall  f1-score   support\n",
            "\n",
            "           0       0.79      0.89      0.83        87\n",
            "           1       0.78      0.62      0.69        56\n",
            "\n",
            "    accuracy                           0.78       143\n",
            "   macro avg       0.78      0.76      0.76       143\n",
            "weighted avg       0.78      0.78      0.78       143\n",
            "\n",
            "AUC Score: 0.7832512315270935\n"
          ]
        }
      ],
      "source": [
        "# Confusion matrix and classification report\n",
        "# Compute confusion matrix\n",
        "cm = confusion_matrix(y_test, y_pred)\n",
        "\n",
        "# Print labeled confusion matrix\n",
        "print(\"Confusion Matrix:\")\n",
        "print(\"               Predicted\")\n",
        "print(\"              0        1\")\n",
        "print(\"Actual 0   {:<8} {:<8}\".format(cm[0, 0], cm[0, 1]))\n",
        "print(\"Actual 1   {:<8} {:<8}\".format(cm[1, 0], cm[1, 1]))\n",
        "print(\"\\nClassification Report:\\n\", classification_report(y_test, y_pred))\n",
        "print(\"AUC Score:\", roc_auc_score(y_test, y_probs))"
      ]
    },
    {
      "cell_type": "markdown",
      "metadata": {
        "id": "Y5_tMxEYgdZd"
      },
      "source": [
        "## Step 5: Plot the ROC Curve"
      ]
    },
    {
      "cell_type": "markdown",
      "metadata": {
        "id": "vDJ4FLX5o6kP"
      },
      "source": [
        "## 🧠 What is the ROC Curve?\n",
        "\n",
        "The **ROC Curve** (Receiver Operating Characteristic curve) is a graph that shows how well your model **separates** the two classes—like survivors vs. non-survivors.\n",
        "\n",
        "---\n",
        "\n",
        "### 📊 What’s on the axes?\n",
        "- **X-axis**: False Positive Rate  \n",
        "  (bad predictions where the model says “survived” but the person didn’t)\n",
        "- **Y-axis**: True Positive Rate = **Recall**  \n",
        "  (how many actual survivors the model correctly found)\n",
        "\n",
        "---\n",
        "\n",
        "### 💡 How it works:\n",
        "The ROC curve shows how the model performs at **different thresholds** (cut-off points for saying “yes” or “no”).\n",
        "\n",
        "> The curve starts in the bottom left (0,0) and moves toward the top right (1,1).  \n",
        "> The **better the model**, the closer the curve hugs the **top-left corner**.\n",
        "\n",
        "---\n",
        "\n",
        "### 🏆 What is AUC?\n",
        "- **AUC** = Area Under the Curve\n",
        "- It’s a number between **0 and 1**\n",
        "- **Closer to 1** = better model\n",
        "- **0.5** = no better than guessing\n",
        "\n",
        "---\n",
        "\n",
        "### 🐳 Easy Analogy:\n",
        "> Imagine a shark detector. The ROC curve tells you how well it can  \n",
        "> **catch real sharks (true positives)** without mistaking  \n",
        "> **dolphins for sharks (false positives).**\n",
        "\n",
        "---\n",
        "\n",
        "### 📌 Bottom Line:\n",
        "> **The ROC curve helps you visualize how good your model is at telling one class from the other—especially when you change the decision threshold. A curve that bows up toward the top-left is what you want.**"
      ]
    },
    {
      "cell_type": "code",
      "execution_count": 37,
      "metadata": {
        "colab": {
          "base_uri": "https://localhost:8080/",
          "height": 472
        },
        "id": "6zDCWDOigdZd",
        "outputId": "ead20033-7ee1-4e52-e791-c2b3e1ae43b3"
      },
      "outputs": [
        {
          "data": {
            "image/png": "[encoded data removed]",
            "text/plain": [
              "<Figure size 640x480 with 1 Axes>"
            ]
          },
          "metadata": {},
          "output_type": "display_data"
        }
      ],
      "source": [
        "fpr, tpr, _ = roc_curve(y_test, y_probs)\n",
        "plt.plot(fpr, tpr)\n",
        "plt.xlabel('False Positive Rate')\n",
        "plt.ylabel('True Positive Rate')\n",
        "plt.title('ROC Curve')\n",
        "plt.grid(True)\n",
        "plt.show()"
      ]
    },
    {
      "cell_type": "markdown",
      "metadata": {
        "id": "7baBvOYysAAy"
      },
      "source": [
        "## 🧠 Step 6: Explainability - Partial Dependence Plots (XAI)\n",
        "\n",
        "Partial Dependence Plots (PDPs) show how each feature (like age, fare, and sex) affects the model's prediction while averaging out the effects of other features. This helps us understand which variables influence survival predictions the most."
      ]
    },
    {
      "cell_type": "code",
      "execution_count": 38,
      "metadata": {
        "id": "BDycfgYLrgLg"
      },
      "outputs": [],
      "source": [
        "from sklearn.inspection import PartialDependenceDisplay"
      ]
    },
    {
      "cell_type": "code",
      "execution_count": 39,
      "metadata": {
        "colab": {
          "base_uri": "https://localhost:8080/",
          "height": 881
        },
        "id": "WmiUx0axq42X",
        "outputId": "549276b8-d1e2-4e1a-b502-09fe75e8ebb3"
      },
      "outputs": [
        {
          "data": {
            "image/png": "[encoded data removed]",
            "text/plain": [
              "<Figure size 640x480 with 2 Axes>"
            ]
          },
          "metadata": {},
          "output_type": "display_data"
        },
        {
          "data": {
            "image/png": "[encoded data removed]",
            "text/plain": [
              "<Figure size 640x480 with 2 Axes>"
            ]
          },
          "metadata": {},
          "output_type": "display_data"
        }
      ],
      "source": [
        "# Partial Dependence Plots (XAI)\n",
        "PartialDependenceDisplay.from_estimator(rf, X_test, ['age'])\n",
        "plt.show()\n",
        "#\n",
        "PartialDependenceDisplay.from_estimator(rf, X_test, ['fare'])\n",
        "plt.show()"
      ]
    },
    {
      "cell_type": "code",
      "execution_count": 40,
      "metadata": {
        "colab": {
          "base_uri": "https://localhost:8080/",
          "height": 452
        },
        "id": "NLVFJc4HuRJJ",
        "outputId": "f0d00dfe-e232-4140-c04a-d08e64298ffe"
      },
      "outputs": [
        {
          "data": {
            "image/png": "[encoded data removed]",
            "text/plain": [
              "<Figure size 640x480 with 1 Axes>"
            ]
          },
          "metadata": {},
          "output_type": "display_data"
        }
      ],
      "source": [
        "# Another way to explain results\n",
        "# binary features sometimes cause issues with PDP\n",
        "# Group by 'sex' and calculate average prediction\n",
        "X_test_with_probs = X_test.copy()\n",
        "X_test_with_probs['predicted_prob'] = rf.predict_proba(X_test)[:, 1]\n",
        "X_test_with_probs['sex'] = X_test_with_probs['sex'].astype(int)\n",
        "\n",
        "sex_means = X_test_with_probs.groupby('sex')['predicted_prob'].mean()\n",
        "\n",
        "# Plot\n",
        "plt.bar(['Male (0)', 'Female (1)'], sex_means)\n",
        "plt.ylabel('Average Predicted Probability of Survival')\n",
        "plt.title('Model Predictions by Sex')\n",
        "plt.show()"
      ]
    },
    {
      "cell_type": "markdown",
      "metadata": {
        "id": "RpaPCXwWgdZd"
      },
      "source": [
        "## Discussion Questions\n",
        "- What do the values in the confusion matrix represent?\n",
        "- If our goal is to **save as many lives as possible**, should we prioritize **precision** or **recall**?\n",
        "- Can a model have high **accuracy** but still perform poorly?\n",
        "- How does the **AUC** help us understand the model's performance?"
      ]
    },
    {
      "cell_type": "markdown",
      "metadata": {
        "id": "3lOZPaf4pcWH"
      },
      "source": [
        "## 🔍 Evaluation Questions & Answers\n",
        "\n",
        "**Q1: What do the values in the confusion matrix represent?**  \n",
        "- They show how many predictions were correct or incorrect:\n",
        "  - **True Positives (TP)**: Correctly predicted survivors  \n",
        "  - **True Negatives (TN)**: Correctly predicted non-survivors  \n",
        "  - **False Positives (FP)**: Predicted survived, but didn’t  \n",
        "  - **False Negatives (FN)**: Predicted didn’t survive, but did  \n",
        "\n",
        "---\n",
        "\n",
        "**Q2: If our goal is to save as many lives as possible, should we prioritize precision or recall?**  \n",
        "- **Recall**, because we want to **catch as many actual survivors as possible**, even if we sometimes predict survival when it didn’t happen.\n",
        "\n",
        "---\n",
        "\n",
        "**Q3: Can a model have high accuracy but still perform poorly?**  \n",
        "- **Yes.** If the data is **imbalanced**, a model can be accurate by always predicting the majority class but fail to detect the important minority cases.\n",
        "\n",
        "---\n",
        "\n",
        "**Q4: How does the AUC help us understand the model's performance?**  \n",
        "- **AUC** (Area Under the ROC Curve) shows how well the model **distinguishes between classes**.  \n",
        "  - **Closer to 1** = better performance  \n",
        "  - **0.5** = no better than guessing"
      ]
    },
    {
      "cell_type": "markdown",
      "metadata": {
        "vscode": {
          "languageId": "raw"
        }
      },
      "source": [
        "# Assignment: Changing the Target Variable\n",
        "\n",
        "Now we will predict a different target variable: **fare_level** instead of survival. This will demonstrate how the same features can be used for different prediction tasks.\n"
      ]
    },
    {
      "cell_type": "markdown",
      "metadata": {
        "vscode": {
          "languageId": "raw"
        }
      },
      "source": [
        "## Step 1: Define the New Target Variable\n",
        "\n",
        "We'll create a **fare_level** target that categorizes passengers into low, medium, and high fare categories.\n"
      ]
    },
    {
      "cell_type": "code",
      "execution_count": 41,
      "metadata": {},
      "outputs": [
        {
          "name": "stdout",
          "output_type": "stream",
          "text": [
            "Fare Level Distribution:\n",
            "fare_level\n",
            "medium    243\n",
            "low       237\n",
            "high      232\n",
            "Name: count, dtype: int64\n",
            "\n",
            "Fare Level Encoded:\n",
            "fare_level_encoded\n",
            "2    243\n",
            "1    237\n",
            "0    232\n",
            "Name: count, dtype: int64\n",
            "\n",
            "Example fare ranges for each level:\n",
            "low: $0.00 - $10.17\n",
            "medium: $10.46 - $26.55\n",
            "high: $27.00 - $512.33\n"
          ]
        }
      ],
      "source": [
        "# Create fare_level target variable by dividing fare into terciles (3 equal groups)\n",
        "df['fare_level'] = pd.qcut(df['fare'], q=3, labels=['low', 'medium', 'high'])\n",
        "\n",
        "# Encode fare_level for machine learning (convert text labels to numbers)\n",
        "from sklearn.preprocessing import LabelEncoder\n",
        "le = LabelEncoder()\n",
        "df['fare_level_encoded'] = le.fit_transform(df['fare_level'])\n",
        "\n",
        "# Display the distribution of fare levels\n",
        "print(\"Fare Level Distribution:\")\n",
        "print(df['fare_level'].value_counts())\n",
        "print(\"\\nFare Level Encoded:\")\n",
        "print(df['fare_level_encoded'].value_counts())\n",
        "\n",
        "# Show some examples\n",
        "print(\"\\nExample fare ranges for each level:\")\n",
        "for level in ['low', 'medium', 'high']:\n",
        "    level_data = df[df['fare_level'] == level]['fare']\n",
        "    print(f\"{level}: ${level_data.min():.2f} - ${level_data.max():.2f}\")\n"
      ]
    },
    {
      "cell_type": "markdown",
      "metadata": {
        "vscode": {
          "languageId": "raw"
        }
      },
      "source": [
        "## Step 2: Define the New Feature Set\n",
        "\n",
        "We'll modify the feature set by **removing 'fare'** since we're now predicting fare_level. Using fare to predict fare_level would be cheating (data leakage)!\n"
      ]
    },
    {
      "cell_type": "code",
      "execution_count": 42,
      "metadata": {},
      "outputs": [
        {
          "name": "stdout",
          "output_type": "stream",
          "text": [
            "New features: ['pclass', 'age', 'sex', 'embarked']\n",
            "New target: fare_level_encoded\n",
            "Feature matrix shape: (712, 4)\n",
            "Target vector shape: (712,)\n",
            "\n",
            "Missing values in features:\n",
            "pclass      0\n",
            "age         0\n",
            "sex         0\n",
            "embarked    0\n",
            "dtype: int64\n",
            "\n",
            "Missing values in target:\n",
            "0\n"
          ]
        }
      ],
      "source": [
        "# Define new features (removed 'fare' to avoid data leakage)\n",
        "X_new = df[['pclass', 'age', 'sex', 'embarked']]\n",
        "\n",
        "# New target variable\n",
        "y_new = df['fare_level_encoded']\n",
        "\n",
        "print(\"New features:\", X_new.columns.tolist())\n",
        "print(\"New target: fare_level_encoded\")\n",
        "print(\"Feature matrix shape:\", X_new.shape)\n",
        "print(\"Target vector shape:\", y_new.shape)\n",
        "\n",
        "# Check for any missing values\n",
        "print(\"\\nMissing values in features:\")\n",
        "print(X_new.isnull().sum())\n",
        "print(\"\\nMissing values in target:\")\n",
        "print(y_new.isnull().sum())\n"
      ]
    },
    {
      "cell_type": "markdown",
      "metadata": {
        "vscode": {
          "languageId": "raw"
        }
      },
      "source": [
        "## Step 3: Train and Evaluate the New Random Forest Model\n"
      ]
    },
    {
      "cell_type": "code",
      "execution_count": 43,
      "metadata": {},
      "outputs": [
        {
          "name": "stdout",
          "output_type": "stream",
          "text": [
            "New model trained successfully!\n",
            "Training set size: 569\n",
            "Test set size: 143\n"
          ]
        }
      ],
      "source": [
        "# Split the data for the new model\n",
        "X_train_new, X_test_new, y_train_new, y_test_new = train_test_split(\n",
        "    X_new, y_new, test_size=0.2, random_state=44\n",
        ")\n",
        "\n",
        "# Train the new Random Forest model\n",
        "rf_new = RandomForestClassifier(random_state=42)\n",
        "rf_new.fit(X_train_new, y_train_new)\n",
        "\n",
        "# Make predictions\n",
        "y_pred_new = rf_new.predict(X_test_new)\n",
        "y_probs_new = rf_new.predict_proba(X_test_new)\n",
        "\n",
        "print(\"New model trained successfully!\")\n",
        "print(\"Training set size:\", X_train_new.shape[0])\n",
        "print(\"Test set size:\", X_test_new.shape[0])\n"
      ]
    },
    {
      "cell_type": "code",
      "execution_count": 44,
      "metadata": {},
      "outputs": [
        {
          "name": "stdout",
          "output_type": "stream",
          "text": [
            "=== NEW MODEL: Fare Level Prediction ===\n",
            "Confusion Matrix:\n",
            "               Predicted\n",
            "              Low    Medium    High\n",
            "Actual Low    33       1        16      \n",
            "Actual Medium 3        44       5       \n",
            "Actual High   12       8        21      \n",
            "\n",
            "Classification Report:\n",
            "               precision    recall  f1-score   support\n",
            "\n",
            "         Low       0.69      0.66      0.67        50\n",
            "      Medium       0.83      0.85      0.84        52\n",
            "        High       0.50      0.51      0.51        41\n",
            "\n",
            "    accuracy                           0.69       143\n",
            "   macro avg       0.67      0.67      0.67       143\n",
            "weighted avg       0.69      0.69      0.69       143\n",
            "\n",
            "Accuracy: 0.6853\n",
            "\n",
            "=== Feature Importance (New Model) ===\n",
            "pclass: 0.4613\n",
            "age: 0.4106\n",
            "sex: 0.0548\n",
            "embarked: 0.0733\n"
          ]
        },
        {
          "data": {
            "image/png": "[encoded data removed]",
            "text/plain": [
              "<Figure size 1000x600 with 1 Axes>"
            ]
          },
          "metadata": {},
          "output_type": "display_data"
        }
      ],
      "source": [
        "# Evaluate the new model\n",
        "from sklearn.metrics import accuracy_score\n",
        "\n",
        "# Confusion matrix for the new model\n",
        "cm_new = confusion_matrix(y_test_new, y_pred_new)\n",
        "\n",
        "# Print labeled confusion matrix\n",
        "print(\"=== NEW MODEL: Fare Level Prediction ===\")\n",
        "print(\"Confusion Matrix:\")\n",
        "print(\"               Predicted\")\n",
        "print(\"              Low    Medium    High\")\n",
        "print(\"Actual Low    {:<8} {:<8} {:<8}\".format(cm_new[0, 0], cm_new[0, 1], cm_new[0, 2] if cm_new.shape[1] > 2 else 0))\n",
        "print(\"Actual Medium {:<8} {:<8} {:<8}\".format(cm_new[1, 0], cm_new[1, 1], cm_new[1, 2] if cm_new.shape[1] > 2 else 0))\n",
        "if cm_new.shape[0] > 2:\n",
        "    print(\"Actual High   {:<8} {:<8} {:<8}\".format(cm_new[2, 0], cm_new[2, 1], cm_new[2, 2]))\n",
        "\n",
        "print(\"\\nClassification Report:\\n\", classification_report(y_test_new, y_pred_new, \n",
        "                                                        target_names=['Low', 'Medium', 'High']))\n",
        "\n",
        "# Calculate accuracy\n",
        "accuracy_new = accuracy_score(y_test_new, y_pred_new)\n",
        "print(f\"Accuracy: {accuracy_new:.4f}\")\n",
        "\n",
        "# Feature importance for the new model\n",
        "feature_importance_new = rf_new.feature_importances_\n",
        "features_new = X_new.columns\n",
        "\n",
        "print(\"\\n=== Feature Importance (New Model) ===\")\n",
        "for feature, importance in zip(features_new, feature_importance_new):\n",
        "    print(f\"{feature}: {importance:.4f}\")\n",
        "\n",
        "# Plot feature importance\n",
        "plt.figure(figsize=(10, 6))\n",
        "plt.bar(features_new, feature_importance_new)\n",
        "plt.title('Feature Importance - Fare Level Prediction Model')\n",
        "plt.xlabel('Features')\n",
        "plt.ylabel('Importance')\n",
        "plt.xticks(rotation=45)\n",
        "plt.tight_layout()\n",
        "plt.show()\n"
      ]
    },
    {
      "cell_type": "code",
      "execution_count": 45,
      "metadata": {},
      "outputs": [
        {
          "name": "stdout",
          "output_type": "stream",
          "text": [
            "=== MODEL COMPARISON ===\n",
            "\n",
            "1. ORIGINAL MODEL (Survival Prediction):\n",
            "   - Target: Survived (Binary: 0/1)\n",
            "   - Features: ['pclass', 'age', 'sex', 'fare', 'embarked']\n",
            "   - Accuracy: 0.7832\n",
            "\n",
            "2. NEW MODEL (Fare Level Prediction):\n",
            "   - Target: Fare Level (Multi-class: Low/Medium/High)\n",
            "   - Features: ['pclass', 'age', 'sex', 'embarked']\n",
            "   - Accuracy: 0.6853\n",
            "\n",
            "=== Feature Importance Comparison ===\n",
            "Original Model (Survival):\n",
            "   pclass: 0.1071\n",
            "   age: 0.2844\n",
            "   sex: 0.2864\n",
            "   fare: 0.2934\n",
            "   embarked: 0.0287\n",
            "\n",
            "New Model (Fare Level):\n",
            "   pclass: 0.4613\n",
            "   age: 0.4106\n",
            "   sex: 0.0548\n",
            "   embarked: 0.0733\n"
          ]
        }
      ],
      "source": [
        "# Compare the two models side by side\n",
        "print(\"=== MODEL COMPARISON ===\")\n",
        "print(\"\\n1. ORIGINAL MODEL (Survival Prediction):\")\n",
        "print(f\"   - Target: Survived (Binary: 0/1)\")\n",
        "print(f\"   - Features: {X.columns.tolist()}\")\n",
        "print(f\"   - Accuracy: {(y_test == y_pred).mean():.4f}\")\n",
        "\n",
        "print(\"\\n2. NEW MODEL (Fare Level Prediction):\")\n",
        "print(f\"   - Target: Fare Level (Multi-class: Low/Medium/High)\")\n",
        "print(f\"   - Features: {X_new.columns.tolist()}\")\n",
        "print(f\"   - Accuracy: {accuracy_new:.4f}\")\n",
        "\n",
        "print(\"\\n=== Feature Importance Comparison ===\")\n",
        "print(\"Original Model (Survival):\")\n",
        "for feature, importance in zip(X.columns, rf.feature_importances_):\n",
        "    print(f\"   {feature}: {importance:.4f}\")\n",
        "\n",
        "print(\"\\nNew Model (Fare Level):\")\n",
        "for feature, importance in zip(features_new, feature_importance_new):\n",
        "    print(f\"   {feature}: {importance:.4f}\")\n"
      ]
    },
    {
      "cell_type": "markdown",
      "metadata": {
        "vscode": {
          "languageId": "raw"
        }
      },
      "source": [
        "## 🔍 Assignment Analysis: Comparing Models\n",
        "\n",
        "**a) What do you notice about accuracy, feature importance, or confusion matrix?**\n",
        "\n",
        "**Accuracy Differences:**\n",
        "- The **survival prediction model** achieved **78.32%** accuracy for a binary classification task\n",
        "- The **fare level prediction model** achieved **68.53%** accuracy for a 3-class problem (Low/Medium/High)\n",
        "- The accuracy difference (9.79 percentage points) shows that multi-class classification is indeed more challenging than binary classification\n",
        "\n",
        "**Feature Importance Changes:**\n",
        "- **Survival Model**: `fare` (0.2934) was the most important feature, followed closely by `sex` (0.2864) and `age` (0.2844). This makes sense since higher fares often meant better access to lifeboats.\n",
        "- **Fare Level Model**: `pclass` (0.4613) became the dominant feature, followed by `age` (0.4106). This is logical since passenger class directly correlates with fare levels.\n",
        "- **Major Shift**: `sex` dropped from 2nd most important (0.2864) to least important (0.0548) when predicting fare levels, showing gender had little impact on what passengers paid.\n",
        "\n",
        "**Confusion Matrix Analysis:**\n",
        "- **Survival Model**: 2x2 matrix (Survived vs. Died)\n",
        "- **Fare Level Model**: 3x3 matrix showing:\n",
        "  - **Medium** fare level performs best (83% precision, 85% recall)\n",
        "  - **Low** fare level has moderate performance (69% precision, 66% recall)\n",
        "  - **High** fare level performs worst (50% precision, 51% recall)\n",
        "  - The model struggles most with distinguishing high-fare passengers, likely due to the wide range ($27-$512)\n",
        "\n",
        "---\n",
        "\n",
        "**b) Which model is better? Why?**\n",
        "\n",
        "**Based on the actual results:**\n",
        "\n",
        "**The Survival Model is technically superior:**\n",
        "- **Higher accuracy** (78.32% vs 68.53%)\n",
        "- **More balanced feature importance** - no single feature dominates\n",
        "- **Clearer business value** - life/death predictions are more actionable than fare categories\n",
        "\n",
        "**The Fare Level Model provides different insights:**\n",
        "- **Reveals economic patterns** - passenger class and age strongly predict fare levels\n",
        "- **Shows pricing discrimination** - gender has minimal impact on fares\n",
        "- **Demonstrates data complexity** - wide fare ranges make high-end prediction difficult\n",
        "\n",
        "**Technical Observations:**\n",
        "- **Binary vs Multi-class**: The 9.79% accuracy drop confirms multi-class problems are inherently harder\n",
        "- **Feature Redistribution**: Removing `fare` forced the model to rely heavily on `pclass` (46%) and `age` (41%)\n",
        "- **Class Imbalance Effects**: The model performs worst on high fares, possibly due to the extreme range ($27-$512)\n",
        "\n",
        "**Conclusion:** While the survival model performs better technically (78% vs 69% accuracy), both models reveal different aspects of the Titanic data. The survival model is better for practical decision-making, while the fare model provides valuable insights into 1912 passenger economics and social stratification.\n"
      ]
    }
  ],
  "metadata": {
    "colab": {
      "provenance": []
    },
    "kernelspec": {
      "display_name": "datamining",
      "language": "python",
      "name": "python3"
    },
    "language_info": {
      "codemirror_mode": {
        "name": "ipython",
        "version": 3
      },
      "file_extension": ".py",
      "mimetype": "text/x-python",
      "name": "python",
      "nbconvert_exporter": "python",
      "pygments_lexer": "ipython3",
      "version": "3.12.11"
    }
  },
  "nbformat": 4,
  "nbformat_minor": 0
}
